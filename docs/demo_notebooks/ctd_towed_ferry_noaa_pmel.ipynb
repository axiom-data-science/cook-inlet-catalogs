{
 "cells": [
  {
   "cell_type": "code",
   "execution_count": null,
   "id": "a81a265f",
   "metadata": {},
   "outputs": [],
   "source": [
    "import pandas as pd\n",
    "from glob import glob\n",
    "from pathlib import Path\n",
    "import intake\n",
    "from importlib.resources import files\n",
    "import os\n",
    "import hvplot.pandas\n",
    "import hvplot.xarray\n",
    "import cook_inlet_catalogs as cic\n"
   ]
  },
  {
   "cell_type": "markdown",
   "id": "bf1fa292",
   "metadata": {},
   "source": [
    "Click here to run this notebook in Binder, a hosted environment: [![Binder](https://mybinder.org/badge_logo.svg)](https://mybinder.org/v2/gh/axiom-data-science/cook-inlet-catalogs/blob/main/docs/demo_notebooks/ctd_towed_ferry_noaa_pmel.ipynb/HEAD)\n",
    "\n",
    "# ctd_towed_ferry_noaa_pmel\n",
    "\n",
    "\n",
    "An oceanographic monitoring system aboard the Alaska Marine Highway System ferry Tustumena operated for four years in the Alaska Coastal Current (ACC) with funding from the Exxon Valdez Oil Spill Trustee Council's Gulf Ecosystem Monitoring Program, the North Pacific Research Board and the National Oceanic and Atmospheric Administration. An electronic public display aboard the ferry educated passengers about the local oceanography and mapped the ferry's progress. Sampling water at 4 m, the underway system measured: (1) temperature and salinity (used in the present report), and (2) nitrate,\n",
    "(3) chlorophyll fluorescence, (4) colored dissolved organic matter fluorescence, and (5) optical beam transmittance (not used in report).\n",
    "\n",
    "Nominal 4 meter depth.\n",
    "\n",
    "NORTH PACIFIC RESEARCH BOARD PROJECT FINAL REPORT\n",
    "Alaskan Ferry Oceanographic Monitoring in the Gulf of Alaska\n",
    "NPRB Project 707 Final Report\n",
    "Edward D. Cokelet and Calvin W. Mordy.\n",
    "https://www.nodc.noaa.gov/archive/arc0031/0070122/1.1/data/0-data/Final_Report_NPRB_0707.pdf\n",
    "\n",
    "Exxon Valdez Oil Spill Gulf Ecosystem\n",
    "Monitoring and Research Project Final Report\n",
    "Biophysical Observations Aboard Alaska Marine Highway System Ferries\n",
    "Gulf Ecosystem Monitoring and Research Project 040699\n",
    "Final Report\n",
    "Edward D. Cokelet, Calvin W. Mordy, Antonio J. Jenkins, W. Scott Pegau\n",
    "https://www.nodc.noaa.gov/archive/arc0031/0070122/1.1/data/0-data/Final_Report_GEM_040699.pdf\n",
    "\n",
    "Archive: https://www.ncei.noaa.gov/metadata/geoportal/rest/metadata/item/gov.noaa.nodc%3A0070122/html\n",
    "\n",
    "![pic](https://www.nodc.noaa.gov/archive/arc0031/0070122/1.1/about/0070122_map.jpg)\n",
    "\n",
    "\n"
   ]
  },
  {
   "cell_type": "code",
   "execution_count": null,
   "id": "e3fe2c37",
   "metadata": {},
   "outputs": [],
   "source": [
    "cat = intake.open_catalog(cic.utils.cat_path(\"ctd_towed_ferry_noaa_pmel\"))"
   ]
  },
  {
   "cell_type": "markdown",
   "id": "acad1cb3",
   "metadata": {},
   "source": [
    "## Plot all datasets in catalog\n"
   ]
  },
  {
   "cell_type": "code",
   "execution_count": null,
   "id": "3c632d85",
   "metadata": {},
   "outputs": [],
   "source": [
    "dd, ddlabels = cic.utils.combine_datasets_for_map(cat)\n",
    "dd.hvplot(**cat.metadata[\"map\"]) * ddlabels.hvplot(**cat.metadata[\"maplabels\"])\n"
   ]
  },
  {
   "cell_type": "markdown",
   "id": "18646e93",
   "metadata": {},
   "source": [
    "## List available datasets in the catalog\n"
   ]
  },
  {
   "cell_type": "code",
   "execution_count": null,
   "id": "542756ae",
   "metadata": {},
   "outputs": [],
   "source": [
    "dataset_ids = list(cat)\n",
    "dataset_ids\n"
   ]
  },
  {
   "cell_type": "markdown",
   "id": "b793f7b4",
   "metadata": {},
   "source": [
    "## Select one dataset to investigate\n"
   ]
  },
  {
   "cell_type": "code",
   "execution_count": null,
   "id": "2b4aee61",
   "metadata": {},
   "outputs": [],
   "source": [
    "dataset_id = dataset_ids[2]\n",
    "print(dataset_id)\n",
    "\n",
    "dd = cat[dataset_id].read()\n",
    "dd\n"
   ]
  },
  {
   "cell_type": "markdown",
   "id": "ba261d84",
   "metadata": {},
   "source": [
    "## Plot one dataset\n"
   ]
  },
  {
   "cell_type": "code",
   "execution_count": null,
   "id": "b6f79a15",
   "metadata": {},
   "outputs": [],
   "source": [
    "keys = list(cat[dataset_id].metadata[\"plots\"].keys())\n",
    "print(keys)\n",
    "\n",
    "key = keys[0]\n",
    "\n",
    "plot_kwargs1 = cat[dataset_id].metadata[\"plots\"][key]\n",
    "if \"clim\" in plot_kwargs1 and isinstance(plot_kwargs1[\"clim\"], list):\n",
    "    plot_kwargs1[\"clim\"] = tuple(plot_kwargs1[\"clim\"])\n",
    "if \"dynamic\" in plot_kwargs1:\n",
    "    plot_kwargs1[\"dynamic\"] = False\n"
   ]
  },
  {
   "cell_type": "code",
   "execution_count": null,
   "id": "03354a66",
   "metadata": {},
   "outputs": [],
   "source": [
    "cat[dataset_id].ToHvPlot(**plot_kwargs1).read()"
   ]
  }
 ],
 "metadata": {},
 "nbformat": 4,
 "nbformat_minor": 5
}
