{
 "cells": [
  {
   "cell_type": "code",
   "execution_count": null,
   "id": "f1547d39",
   "metadata": {},
   "outputs": [],
   "source": [
    "import pandas as pd\n",
    "from glob import glob\n",
    "from pathlib import Path\n",
    "import intake\n",
    "from importlib.resources import files\n",
    "import os\n",
    "import hvplot.pandas\n",
    "import hvplot.xarray\n",
    "import cook_inlet_catalogs as cic\n"
   ]
  },
  {
   "cell_type": "markdown",
   "id": "f73a43a7",
   "metadata": {},
   "source": [
    "Click here to run this notebook in Binder, a hosted environment: [![Binder](https://mybinder.org/badge_logo.svg)](https://mybinder.org/v2/gh/axiom-data-science/cook-inlet-catalogs/blob/main/docs/demo_notebooks/ctd_profiles_emap_2008.ipynb/HEAD)\n",
    "\n",
    "# ctd_profiles_emap_2008\n",
    "\n",
    "CTD Profiles in Cook Inlet\n",
    "\n"
   ]
  },
  {
   "cell_type": "code",
   "execution_count": null,
   "id": "7541f913",
   "metadata": {},
   "outputs": [],
   "source": [
    "cat = intake.open_catalog(cic.utils.cat_path(\"ctd_profiles_emap_2008\"))"
   ]
  },
  {
   "cell_type": "markdown",
   "id": "22d10f67",
   "metadata": {},
   "source": [
    "## Plot all datasets in catalog\n"
   ]
  },
  {
   "cell_type": "code",
   "execution_count": null,
   "id": "fef85039",
   "metadata": {},
   "outputs": [],
   "source": [
    "dd, ddlabels = cic.utils.combine_datasets_for_map(cat)\n",
    "dd.hvplot(**cat.metadata[\"map\"]) * ddlabels.hvplot(**cat.metadata[\"maplabels\"])\n"
   ]
  },
  {
   "cell_type": "markdown",
   "id": "07c02cba",
   "metadata": {},
   "source": [
    "## List available datasets in the catalog\n"
   ]
  },
  {
   "cell_type": "code",
   "execution_count": null,
   "id": "316e5ca3",
   "metadata": {},
   "outputs": [],
   "source": [
    "dataset_ids = list(cat)\n",
    "dataset_ids\n"
   ]
  },
  {
   "cell_type": "markdown",
   "id": "210ef1e7",
   "metadata": {},
   "source": [
    "## Select one dataset to investigate\n"
   ]
  },
  {
   "cell_type": "code",
   "execution_count": null,
   "id": "52f28301",
   "metadata": {},
   "outputs": [],
   "source": [
    "dataset_id = dataset_ids[2]\n",
    "print(dataset_id)\n",
    "\n",
    "dd = cat[dataset_id].read()\n",
    "dd\n"
   ]
  },
  {
   "cell_type": "markdown",
   "id": "ea20fe2d",
   "metadata": {},
   "source": [
    "## Plot one dataset\n"
   ]
  },
  {
   "cell_type": "code",
   "execution_count": null,
   "id": "53b38792",
   "metadata": {},
   "outputs": [],
   "source": [
    "keys = list(cat[dataset_id].metadata[\"plots\"].keys())\n",
    "print(keys)\n",
    "\n",
    "key = keys[0]\n",
    "\n",
    "plot_kwargs1 = cat[dataset_id].metadata[\"plots\"][key]\n",
    "if \"clim\" in plot_kwargs1 and isinstance(plot_kwargs1[\"clim\"], list):\n",
    "    plot_kwargs1[\"clim\"] = tuple(plot_kwargs1[\"clim\"])\n",
    "if \"dynamic\" in plot_kwargs1:\n",
    "    plot_kwargs1[\"dynamic\"] = False\n"
   ]
  },
  {
   "cell_type": "code",
   "execution_count": null,
   "id": "70bf0d7c",
   "metadata": {},
   "outputs": [],
   "source": [
    "cat[dataset_id].ToHvPlot(**plot_kwargs1).read()"
   ]
  }
 ],
 "metadata": {},
 "nbformat": 4,
 "nbformat_minor": 5
}
