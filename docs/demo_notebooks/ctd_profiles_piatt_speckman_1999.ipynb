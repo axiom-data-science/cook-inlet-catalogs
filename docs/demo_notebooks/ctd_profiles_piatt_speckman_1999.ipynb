{
 "cells": [
  {
   "cell_type": "code",
   "execution_count": null,
   "id": "b82b4aa9",
   "metadata": {},
   "outputs": [],
   "source": [
    "import pandas as pd\n",
    "from glob import glob\n",
    "from pathlib import Path\n",
    "import intake\n",
    "from importlib.resources import files\n",
    "import os\n",
    "import hvplot.pandas\n",
    "import hvplot.xarray\n",
    "import cook_inlet_catalogs as cic\n"
   ]
  },
  {
   "cell_type": "markdown",
   "id": "869b49e7",
   "metadata": {},
   "source": [
    "Click here to run this notebook in Binder, a hosted environment: [![Binder](https://mybinder.org/badge_logo.svg)](https://mybinder.org/v2/gh/axiom-data-science/cook-inlet-catalogs/blob/main/docs/demo_notebooks/ctd_profiles_piatt_speckman_1999.ipynb/HEAD)\n",
    "\n",
    "# ctd_profiles_piatt_speckman_1999\n",
    "\n",
    "CTD Profiles in Cook Inlet\n",
    "\n"
   ]
  },
  {
   "cell_type": "code",
   "execution_count": null,
   "id": "5932b606",
   "metadata": {},
   "outputs": [],
   "source": [
    "cat = intake.open_catalog(cic.utils.cat_path(\"ctd_profiles_piatt_speckman_1999\"))"
   ]
  },
  {
   "cell_type": "markdown",
   "id": "e4c08c3c",
   "metadata": {},
   "source": [
    "## Plot all datasets in catalog\n"
   ]
  },
  {
   "cell_type": "code",
   "execution_count": null,
   "id": "67605a35",
   "metadata": {},
   "outputs": [],
   "source": [
    "dd, ddlabels = cic.utils.combine_datasets_for_map(cat)\n",
    "dd.hvplot(**cat.metadata[\"map\"]) * ddlabels.hvplot(**cat.metadata[\"maplabels\"])\n"
   ]
  },
  {
   "cell_type": "markdown",
   "id": "00a24dc4",
   "metadata": {},
   "source": [
    "## List available datasets in the catalog\n"
   ]
  },
  {
   "cell_type": "code",
   "execution_count": null,
   "id": "7c45252a",
   "metadata": {},
   "outputs": [],
   "source": [
    "dataset_ids = list(cat)\n",
    "dataset_ids\n"
   ]
  },
  {
   "cell_type": "markdown",
   "id": "cf60d19a",
   "metadata": {},
   "source": [
    "## Select one dataset to investigate\n"
   ]
  },
  {
   "cell_type": "code",
   "execution_count": null,
   "id": "37ca58ea",
   "metadata": {},
   "outputs": [],
   "source": [
    "dataset_id = dataset_ids[2]\n",
    "print(dataset_id)\n",
    "\n",
    "dd = cat[dataset_id].read()\n",
    "dd\n"
   ]
  },
  {
   "cell_type": "markdown",
   "id": "c20623db",
   "metadata": {},
   "source": [
    "## Plot one dataset\n"
   ]
  },
  {
   "cell_type": "code",
   "execution_count": null,
   "id": "c7ad8612",
   "metadata": {},
   "outputs": [],
   "source": [
    "keys = list(cat[dataset_id].metadata[\"plots\"].keys())\n",
    "print(keys)\n",
    "\n",
    "key = keys[0]\n",
    "\n",
    "plot_kwargs1 = cat[dataset_id].metadata[\"plots\"][key]\n",
    "if \"clim\" in plot_kwargs1 and isinstance(plot_kwargs1[\"clim\"], list):\n",
    "    plot_kwargs1[\"clim\"] = tuple(plot_kwargs1[\"clim\"])\n",
    "if \"dynamic\" in plot_kwargs1:\n",
    "    plot_kwargs1[\"dynamic\"] = False\n"
   ]
  },
  {
   "cell_type": "code",
   "execution_count": null,
   "id": "5fe47740",
   "metadata": {},
   "outputs": [],
   "source": [
    "cat[dataset_id].ToHvPlot(**plot_kwargs1).read()"
   ]
  }
 ],
 "metadata": {},
 "nbformat": 4,
 "nbformat_minor": 5
}
