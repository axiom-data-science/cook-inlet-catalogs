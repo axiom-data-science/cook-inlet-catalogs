{
 "cells": [
  {
   "cell_type": "code",
   "execution_count": null,
   "id": "bbd651e5",
   "metadata": {},
   "outputs": [],
   "source": [
    "import pandas as pd\n",
    "from glob import glob\n",
    "from pathlib import Path\n",
    "import intake\n",
    "from importlib.resources import files\n",
    "import os\n",
    "import hvplot.pandas\n",
    "import hvplot.xarray\n",
    "import cook_inlet_catalogs as cic\n"
   ]
  },
  {
   "cell_type": "markdown",
   "id": "be7a58ab",
   "metadata": {},
   "source": [
    "Click here to run this notebook in Binder, a hosted environment: [![Binder](https://mybinder.org/badge_logo.svg)](https://mybinder.org/v2/gh/axiom-data-science/cook-inlet-catalogs/blob/main/docs/demo_notebooks/ctd_transects_cmi_kbnerr.ipynb/HEAD)\n",
    "\n",
    "# ctd_transects_cmi_kbnerr\n",
    "\n",
    "Seasonality of Boundary Conditions for Cook Inlet, Alaska\n",
    "\n",
    "During 2004 to 2006 we collected hydrographic measurements along transect lines crossing: 1) Kennedy Entrance and Stevenson Entrance from Port Chatham to Shuyak Island; 2) Shelikof Strait from Shuyak Island to Cape Douglas; 3) Cook Inlet from Red River to Anchor Point; 4) Kachemak Bay from Barbara Point to Bluff Point, and 5) the Forelands from East Foreland to West Foreland. During the third year we added two additional lines; 6) Cape Douglas to Cape Adams, and 7) Magnet Rock to Mount Augustine. The sampling in 2006 focused on the differences in properties during the spring and neap tide periods.\n",
    "\n",
    "CTD profiles 2004-2005 - CMI UAF seems to be transect 5 of this project.\n",
    "\n",
    "Part of the project:\n",
    "Seasonality of Boundary Conditions for Cook Inlet, Alaska\n",
    "Steve Okkonen Principal Investigator\n",
    "Co-principal Investigators: Scott Pegau Susan Saupe\n",
    "Final Report\n",
    "OCS Study MMS 2009-041\n",
    "August 2009\n",
    "Report: https://researchworkspace.com/files/39885971/2009_041.pdf\n",
    "\n",
    "<img src=\"https://user-images.githubusercontent.com/3487237/233167915-c0b2b0e1-151e-4cef-a647-e6311345dbf9.jpg\" alt=\"alt text\" width=\"300\"/>\n",
    "\n",
    "\n"
   ]
  },
  {
   "cell_type": "code",
   "execution_count": null,
   "id": "eb902bde",
   "metadata": {},
   "outputs": [],
   "source": [
    "cat = intake.open_catalog(cic.utils.cat_path(\"ctd_transects_cmi_kbnerr\"))"
   ]
  },
  {
   "cell_type": "markdown",
   "id": "9d3e52a1",
   "metadata": {},
   "source": [
    "## Plot all datasets in catalog\n"
   ]
  },
  {
   "cell_type": "code",
   "execution_count": null,
   "id": "362265f6",
   "metadata": {},
   "outputs": [],
   "source": [
    "dd, ddlabels = cic.utils.combine_datasets_for_map(cat)\n",
    "dd.hvplot(**cat.metadata[\"map\"]) * ddlabels.hvplot(**cat.metadata[\"maplabels\"])\n"
   ]
  },
  {
   "cell_type": "markdown",
   "id": "9eba8695",
   "metadata": {},
   "source": [
    "## List available datasets in the catalog\n"
   ]
  },
  {
   "cell_type": "code",
   "execution_count": null,
   "id": "f1e938bc",
   "metadata": {},
   "outputs": [],
   "source": [
    "dataset_ids = list(cat)\n",
    "dataset_ids\n"
   ]
  },
  {
   "cell_type": "markdown",
   "id": "b2de800e",
   "metadata": {},
   "source": [
    "## Select one dataset to investigate\n"
   ]
  },
  {
   "cell_type": "code",
   "execution_count": null,
   "id": "8ad1cf75",
   "metadata": {},
   "outputs": [],
   "source": [
    "dataset_id = dataset_ids[2]\n",
    "print(dataset_id)\n",
    "\n",
    "dd = cat[dataset_id].read()\n",
    "dd\n"
   ]
  },
  {
   "cell_type": "markdown",
   "id": "6ec028d1",
   "metadata": {},
   "source": [
    "## Plot one dataset\n"
   ]
  },
  {
   "cell_type": "code",
   "execution_count": null,
   "id": "c1ce49af",
   "metadata": {},
   "outputs": [],
   "source": [
    "keys = list(cat[dataset_id].metadata[\"plots\"].keys())\n",
    "print(keys)\n",
    "\n",
    "key = keys[0]\n",
    "\n",
    "plot_kwargs1 = cat[dataset_id].metadata[\"plots\"][key]\n",
    "if \"clim\" in plot_kwargs1 and isinstance(plot_kwargs1[\"clim\"], list):\n",
    "    plot_kwargs1[\"clim\"] = tuple(plot_kwargs1[\"clim\"])\n",
    "if \"dynamic\" in plot_kwargs1:\n",
    "    plot_kwargs1[\"dynamic\"] = False\n"
   ]
  },
  {
   "cell_type": "code",
   "execution_count": null,
   "id": "98e88f21",
   "metadata": {},
   "outputs": [],
   "source": [
    "cat[dataset_id].ToHvPlot(**plot_kwargs1).read()"
   ]
  }
 ],
 "metadata": {},
 "nbformat": 4,
 "nbformat_minor": 5
}
